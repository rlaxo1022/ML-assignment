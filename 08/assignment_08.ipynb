{
 "cells": [
  {
   "cell_type": "markdown",
   "metadata": {},
   "source": [
    "# Logistic Regression "
   ]
  },
  {
   "cell_type": "markdown",
   "metadata": {},
   "source": [
    "## import library"
   ]
  },
  {
   "cell_type": "code",
   "execution_count": 401,
   "metadata": {},
   "outputs": [],
   "source": [
    "import numpy as np\n",
    "import matplotlib.pyplot as plt\n",
    "import matplotlib.colors as colors\n",
    "from matplotlib import ticker, cm"
   ]
  },
  {
   "cell_type": "markdown",
   "metadata": {},
   "source": [
    "## load training data"
   ]
  },
  {
   "cell_type": "code",
   "execution_count": 402,
   "metadata": {},
   "outputs": [
    {
     "name": "stdout",
     "output_type": "stream",
     "text": [
      "number of data =  600\n",
      "data type of point x =  float64\n",
      "data type of point y =  float64\n"
     ]
    }
   ],
   "source": [
    "fname_data = 'assignment_08_data.csv'\n",
    "\n",
    "data        = np.genfromtxt(fname_data, delimiter=',')\n",
    "number_data = data.shape[0]\n",
    "\n",
    "point_x = data[:, 0]\n",
    "point_y = data[:, 1]\n",
    "label   = data[:, 2]\n",
    "\n",
    "print('number of data = ', number_data)\n",
    "print('data type of point x = ', point_x.dtype)\n",
    "print('data type of point y = ', point_y.dtype)\n",
    "\n",
    "point_x_class_0 = point_x[label == 0]\n",
    "point_y_class_0 = point_y[label == 0]\n",
    "\n",
    "point_x_class_1 = point_x[label == 1]\n",
    "point_y_class_1 = point_y[label == 1]"
   ]
  },
  {
   "cell_type": "markdown",
   "metadata": {},
   "source": [
    "## plot the data"
   ]
  },
  {
   "cell_type": "code",
   "execution_count": 403,
   "metadata": {},
   "outputs": [
    {
     "data": {
      "image/png": "[encoded data removed]",
      "text/plain": [
       "<Figure size 576x576 with 1 Axes>"
      ]
     },
     "metadata": {
      "needs_background": "light"
     },
     "output_type": "display_data"
    }
   ],
   "source": [
    "f = plt.figure(figsize=(8,8))   \n",
    "\n",
    "plt.title('training data')\n",
    "plt.plot(point_x_class_0, point_y_class_0, 'o', color='blue', label='class = 0')\n",
    "plt.plot(point_x_class_1, point_y_class_1, 'o', color='red', label='class = 1')\n",
    "plt.axis('equal')\n",
    "plt.legend()\n",
    "plt.tight_layout()\n",
    "plt.show()"
   ]
  },
  {
   "cell_type": "markdown",
   "metadata": {},
   "source": [
    "## define the linear regression function"
   ]
  },
  {
   "cell_type": "markdown",
   "metadata": {},
   "source": [
    "- $\\theta = (\\theta_0, \\theta_1, \\theta_2)$\n",
    "- point = $(1, x, y) \\in \\mathbb{R}^3$"
   ]
  },
  {
   "cell_type": "code",
   "execution_count": 404,
   "metadata": {},
   "outputs": [],
   "source": [
    "def compute_linear_regression(theta, point):\n",
    "\n",
    "    # ++++++++++++++++++++++++++++++++++++++++++++++++++\n",
    "    # complete the blanks\n",
    "    #\n",
    "    \n",
    "    value = np.dot(point, theta)\n",
    "    \n",
    "    #\n",
    "    # ++++++++++++++++++++++++++++++++++++++++++++++++++\n",
    "\n",
    "    return value"
   ]
  },
  {
   "cell_type": "markdown",
   "metadata": {},
   "source": [
    "## define sigmoid function with input"
   ]
  },
  {
   "cell_type": "markdown",
   "metadata": {},
   "source": [
    "- $z \\in \\mathbb{R}$"
   ]
  },
  {
   "cell_type": "code",
   "execution_count": 405,
   "metadata": {},
   "outputs": [],
   "source": [
    "def sigmoid(z):\n",
    "\n",
    "    # ++++++++++++++++++++++++++++++++++++++++++++++++++\n",
    "    # complete the blanks\n",
    "    #\n",
    "    \n",
    "    value = 1 / (1 + np.exp(-z))\n",
    "    \n",
    "    #\n",
    "    # ++++++++++++++++++++++++++++++++++++++++++++++++++\n",
    "\n",
    "    return value "
   ]
  },
  {
   "cell_type": "markdown",
   "metadata": {},
   "source": [
    "## define the logistic regression function"
   ]
  },
  {
   "cell_type": "markdown",
   "metadata": {},
   "source": [
    "- $\\theta = (\\theta_0, \\theta_1, \\theta_2) \\in \\mathbb{R}^3$\n",
    "- point = $(1, x, y) \\in \\mathbb{R}^3$"
   ]
  },
  {
   "cell_type": "code",
   "execution_count": 406,
   "metadata": {},
   "outputs": [],
   "source": [
    "def compute_logistic_regression(theta, point):\n",
    "\n",
    "    # ++++++++++++++++++++++++++++++++++++++++++++++++++\n",
    "    # complete the blanks\n",
    "    #\n",
    "\n",
    "    value = 1 / (1 + np.exp(-compute_linear_regression(theta, point)))\n",
    "\n",
    "    #\n",
    "    # ++++++++++++++++++++++++++++++++++++++++++++++++++\n",
    "\n",
    "    return value"
   ]
  },
  {
   "cell_type": "markdown",
   "metadata": {},
   "source": [
    "## define the residual function"
   ]
  },
  {
   "cell_type": "markdown",
   "metadata": {},
   "source": [
    "- $\\theta = (\\theta_0, \\theta_1, \\theta_2) \\in \\mathbb{R}^3$\n",
    "- point $= (x, y) \\in \\mathbb{R}^2$\n",
    "- label $= l \\in \\{0, 1\\}$"
   ]
  },
  {
   "cell_type": "code",
   "execution_count": 407,
   "metadata": {},
   "outputs": [],
   "source": [
    "def compute_residual(theta, point, label):\n",
    "\n",
    "    # ++++++++++++++++++++++++++++++++++++++++++++++++++\n",
    "    # complete the blanks\n",
    "    #\n",
    "\n",
    "    residual = np.matmul(- label.T, np.log(compute_logistic_regression(theta, point))) - np.matmul((1 - label).T, np.log(1 - compute_logistic_regression(theta, point)))\n",
    "    #\n",
    "    # ++++++++++++++++++++++++++++++++++++++++++++++++++\n",
    "\n",
    "    return residual"
   ]
  },
  {
   "cell_type": "markdown",
   "metadata": {},
   "source": [
    "## define the loss function for the logistic regression"
   ]
  },
  {
   "cell_type": "markdown",
   "metadata": {},
   "source": [
    "- $\\theta = (\\theta_0, \\theta_1, \\theta_2) \\in \\mathbb{R}^3$\n",
    "- point $= (1, x, y) \\in \\mathbb{R}^3$\n",
    "- label $= l \\in \\{0, 1\\}$"
   ]
  },
  {
   "cell_type": "code",
   "execution_count": 408,
   "metadata": {},
   "outputs": [],
   "source": [
    "def compute_loss(theta, point, label):\n",
    "\n",
    "    # ++++++++++++++++++++++++++++++++++++++++++++++++++\n",
    "    # complete the blanks\n",
    "    #\n",
    "\n",
    "    loss = np.sum(compute_residual(theta, point, label)) / len(point_y)\n",
    "\n",
    "    #\n",
    "    # ++++++++++++++++++++++++++++++++++++++++++++++++++\n",
    "\n",
    "    return loss"
   ]
  },
  {
   "cell_type": "markdown",
   "metadata": {},
   "source": [
    "## define the gradient of the loss with respect to the model parameter $\\theta$"
   ]
  },
  {
   "cell_type": "markdown",
   "metadata": {},
   "source": [
    "- $\\theta = (\\theta_0, \\theta_1, \\theta_2) \\in \\mathbb{R}^3$\n",
    "- point $= (1, x, y) \\in \\mathbb{R}^3$\n",
    "- label $= l \\in \\{0, 1\\}$"
   ]
  },
  {
   "cell_type": "code",
   "execution_count": 409,
   "metadata": {},
   "outputs": [],
   "source": [
    "def compute_gradient(theta, point, label):\n",
    "\n",
    "    # ++++++++++++++++++++++++++++++++++++++++++++++++++\n",
    "    # complete the blanks\n",
    "    #\n",
    "\n",
    "    gradient = np.matmul(point.T, (compute_logistic_regression(theta, point) - label)) / len(point_y)\n",
    "\n",
    "    #\n",
    "    # ++++++++++++++++++++++++++++++++++++++++++++++++++\n",
    "\n",
    "    return gradient"
   ]
  },
  {
   "cell_type": "markdown",
   "metadata": {},
   "source": [
    "## initialize the gradient descent algorithm"
   ]
  },
  {
   "cell_type": "code",
   "execution_count": 410,
   "metadata": {
    "tags": []
   },
   "outputs": [
    {
     "name": "stdout",
     "output_type": "stream",
     "text": [
      "shape of point_class_0 :  (300, 3)\n",
      "shape of point_class_1 :  (300, 3)\n",
      "shape of label_0 :  (300,)\n",
      "shape of label_1 :  (300,)\n",
      "shape of point :  (600, 3)\n",
      "shape of label :  (600,)\n"
     ]
    }
   ],
   "source": [
    "num_iteration   = 5000  # USE THIS VALUE for the number of gradient descent iterations \n",
    "learning_rate   = 0.001 # USE THIS VALUE for the learning rate\n",
    "\n",
    "theta           = np.array((0, 0, 0))\n",
    "theta_iteration = np.zeros((num_iteration, theta.size))\n",
    "loss_iteration  = np.zeros(num_iteration)\n",
    "\n",
    "number_point_class_0    = len(point_x_class_0)\n",
    "number_point_class_1    = len(point_x_class_1)\n",
    "\n",
    "point_class_0   = np.ones((number_point_class_0, 3))\n",
    "point_class_1   = np.ones((number_point_class_1, 3))\n",
    "\n",
    "point_class_0[:, 1] = point_x_class_0\n",
    "point_class_0[:, 2] = point_y_class_0\n",
    " \n",
    "point_class_1[:, 1] = point_x_class_1\n",
    "point_class_1[:, 2] = point_y_class_1\n",
    "\n",
    "label_0     = np.zeros(number_point_class_0)\n",
    "label_1     = np.ones(number_point_class_1)\n",
    "\n",
    "point = np.concatenate((point_class_0, point_class_1), axis=0)\n",
    "label = np.concatenate((label_0, label_1), axis=0)\n",
    "\n",
    "print('shape of point_class_0 : ', point_class_0.shape)\n",
    "print('shape of point_class_1 : ', point_class_1.shape)\n",
    "print('shape of label_0 : ', label_0.shape)\n",
    "print('shape of label_1 : ', label_1.shape)\n",
    "\n",
    "print('shape of point : ', point.shape)\n",
    "print('shape of label : ', label.shape)"
   ]
  },
  {
   "cell_type": "markdown",
   "metadata": {},
   "source": [
    "## run the gradient descent algorithm to optimize the loss function with respect to the model parameter"
   ]
  },
  {
   "cell_type": "code",
   "execution_count": 411,
   "metadata": {
    "tags": [
     "outputPrepend"
    ]
   },
   "outputs": [],
   "source": [
    "for i in range(num_iteration):\n",
    "    \n",
    "    # ++++++++++++++++++++++++++++++++++++++++++++++++++\n",
    "    # complete the blanks\n",
    "    #\n",
    "    \n",
    "    theta   = theta -learning_rate * compute_gradient(theta, point, label)\n",
    "    loss    = np.inner(compute_residual(theta, point, label).T, compute_residual(theta, point, label)) / (number_data * 2)\n",
    "\n",
    "    #\n",
    "    # ++++++++++++++++++++++++++++++++++++++++++++++++++\n",
    "\n",
    "    theta_iteration[i, :]   = theta\n",
    "    loss_iteration[i]       = loss\n",
    "\n",
    "theta_optimal = theta"
   ]
  },
  {
   "cell_type": "markdown",
   "metadata": {},
   "source": [
    "___"
   ]
  },
  {
   "cell_type": "markdown",
   "metadata": {},
   "source": [
    "___"
   ]
  },
  {
   "cell_type": "markdown",
   "metadata": {},
   "source": [
    "## functions for presenting the results"
   ]
  },
  {
   "cell_type": "markdown",
   "metadata": {},
   "source": [
    "___"
   ]
  },
  {
   "cell_type": "markdown",
   "metadata": {},
   "source": [
    "___"
   ]
  },
  {
   "cell_type": "code",
   "execution_count": 412,
   "metadata": {},
   "outputs": [],
   "source": [
    "def function_result_01():\n",
    "\n",
    "    input1  = np.array([0.1, 0.2, 0.3])\n",
    "    input2  = np.array([[1, 2, 3], [1, -2, -3]])\n",
    "\n",
    "    value = compute_linear_regression(input1, input2)\n",
    "    \n",
    "    print(value)"
   ]
  },
  {
   "cell_type": "code",
   "execution_count": 413,
   "metadata": {},
   "outputs": [],
   "source": [
    "def function_result_02():\n",
    "    \n",
    "    input1  = np.array([0.1, 0.2, 0.3])\n",
    "    input2  = np.array([[1, 2, 3], [1, -2, -3]])\n",
    "\n",
    "    value = compute_logistic_regression(input1, input2)\n",
    "\n",
    "    print(value)"
   ]
  },
  {
   "cell_type": "code",
   "execution_count": 414,
   "metadata": {},
   "outputs": [],
   "source": [
    "def function_result_03():\n",
    "\n",
    "    input1  = np.array([0.1, 0.2, 0.3])\n",
    "    input2  = np.array([[1, 2, 3], [1, -2, -3]])\n",
    "    input3  = np.array([0, 1])\n",
    "\n",
    "    value = compute_residual(input1, input2, input3)\n",
    "\n",
    "    print(value)"
   ]
  },
  {
   "cell_type": "code",
   "execution_count": 415,
   "metadata": {},
   "outputs": [],
   "source": [
    "def function_result_04():\n",
    "    \n",
    "    input1  = np.array([0.1, 0.2, 0.3])\n",
    "    input2  = np.array([[1, 2, 3], [1, -2, -3]])\n",
    "    input3  = np.array([[0], [1]])\n",
    "\n",
    "    value = compute_loss(input1, input2, input3)\n",
    "\n",
    "    print(value)"
   ]
  },
  {
   "cell_type": "code",
   "execution_count": 416,
   "metadata": {},
   "outputs": [],
   "source": [
    "def function_result_05():\n",
    "    \n",
    "    input1  = np.array([0.1, 0.2, 0.3])\n",
    "    input2  = np.array([[1, 2, 3], [1, -2, -3]])\n",
    "    input3  = np.array([[0], [1]])\n",
    "\n",
    "    value = compute_gradient(input1, input2, input3)\n",
    "\n",
    "    print(value)"
   ]
  },
  {
   "cell_type": "code",
   "execution_count": 417,
   "metadata": {},
   "outputs": [],
   "source": [
    "def function_result_06():\n",
    "    \n",
    "    plt.figure(figsize=(8,6))\n",
    "    plt.title('loss')\n",
    "\n",
    "    plt.plot(loss_iteration, '-', color='red')\n",
    "    plt.xlabel('iteration')\n",
    "    plt.ylabel('loss')\n",
    "\n",
    "    plt.tight_layout()\n",
    "    plt.show()"
   ]
  },
  {
   "cell_type": "code",
   "execution_count": 418,
   "metadata": {},
   "outputs": [],
   "source": [
    "def function_result_07():\n",
    "    \n",
    "    plt.figure(figsize=(8,6))   # USE THIS VALUE for the size of the figure\n",
    "    plt.title('model parameter')\n",
    "\n",
    "    plt.plot(theta_iteration[:, 0], '-', color='red', label=r'$\\theta_0$')\n",
    "    plt.plot(theta_iteration[:, 1], '-', color='green', label=r'$\\theta_1$')\n",
    "    plt.plot(theta_iteration[:, 2], '-', color='blue', label=r'$\\theta_2$')\n",
    "    \n",
    "    plt.xlabel('iteration')\n",
    "    plt.legend()\n",
    "\n",
    "    plt.tight_layout()\n",
    "    plt.show()"
   ]
  },
  {
   "cell_type": "markdown",
   "metadata": {},
   "source": [
    "## plot the linear regression values over the 2-dimensional Euclidean space and superimpose the training data"
   ]
  },
  {
   "cell_type": "code",
   "execution_count": 422,
   "metadata": {},
   "outputs": [],
   "source": [
    "def function_result_08():\n",
    "\n",
    "    X = np.arange(-20, 35, 0.1) # USE THIS VALUE for the range of x values in the construction of coordinate\n",
    "    Y = np.arange(-20, 35, 0.1) # USE THIS VALUE for the range of y values in the construction of coordinate\n",
    "\n",
    "    [XX, YY] = np.meshgrid(X, Y)\n",
    "\n",
    "    # ++++++++++++++++++++++++++++++++++++++++++++++++++\n",
    "    # complete the blanks\n",
    "    #\n",
    "    \n",
    "    plt.figure(figsize=(8,8))   \n",
    "    \n",
    "    grid = np.c_[XX.ravel(), YY.ravel()]\n",
    "\n",
    "    plt.title('linear regression values')\n",
    "    plt.plot(point_x_class_0, point_y_class_0, 'o', color='blue', label='class = 0')\n",
    "    plt.plot(point_x_class_1, point_y_class_1, 'o', color='red', label='class = 1')\n",
    "    plt.axis('equal')\n",
    "    plt.legend()\n",
    "    plt.tight_layout()\n",
    "    plt.show()\n",
    "\n",
    "    #\n",
    "    # ++++++++++++++++++++++++++++++++++++++++++++++++++"
   ]
  },
  {
   "cell_type": "markdown",
   "metadata": {},
   "source": [
    "## plot the logistic regression values over the 2-dimensional Euclidean space"
   ]
  },
  {
   "cell_type": "code",
   "execution_count": 420,
   "metadata": {},
   "outputs": [],
   "source": [
    "def function_result_09():\n",
    "\n",
    "    X = np.arange(-20, 35, 0.1) # USE THIS VALUE for the range of x values in the construction of coordinate\n",
    "    Y = np.arange(-20, 35, 0.1) # USE THIS VALUE for the range of y values in the construction of coordinate\n",
    "\n",
    "    [XX, YY] = np.meshgrid(X, Y)\n",
    "\n",
    "    # ++++++++++++++++++++++++++++++++++++++++++++++++++\n",
    "    # complete the blanks\n",
    "    #\n",
    "\n",
    "    f = plt.figure(figsize=(8,8))   \n",
    "\n",
    "    plt.title('logistic regression values')\n",
    "    plt.plot(point_x_class_0, point_y_class_0, 'o', color='blue', label='class = 0')\n",
    "    plt.plot(point_x_class_1, point_y_class_1, 'o', color='red', label='class = 1')\n",
    "    plt.axis('equal')\n",
    "    plt.legend()\n",
    "    plt.tight_layout()\n",
    "    plt.show()\n",
    "\n",
    "    #\n",
    "    # ++++++++++++++++++++++++++++++++++++++++++++++++++"
   ]
  },
  {
   "cell_type": "markdown",
   "metadata": {},
   "source": [
    "___"
   ]
  },
  {
   "cell_type": "markdown",
   "metadata": {},
   "source": [
    "___"
   ]
  },
  {
   "cell_type": "markdown",
   "metadata": {},
   "source": [
    "## results"
   ]
  },
  {
   "cell_type": "markdown",
   "metadata": {},
   "source": [
    "___"
   ]
  },
  {
   "cell_type": "markdown",
   "metadata": {},
   "source": [
    "___"
   ]
  },
  {
   "cell_type": "code",
   "execution_count": 421,
   "metadata": {},
   "outputs": [
    {
     "name": "stdout",
     "output_type": "stream",
     "text": [
      "**************************************************\n",
      "## [RESULT 01]\n",
      "**************************************************\n",
      "[ 1.4 -1.2]\n",
      "**************************************************\n",
      "## [RESULT 02]\n",
      "**************************************************\n",
      "[0.80218389 0.23147522]\n",
      "**************************************************\n",
      "## [RESULT 03]\n",
      "**************************************************\n",
      "3.083699877256482\n",
      "**************************************************\n",
      "## [RESULT 04]\n",
      "**************************************************\n",
      "0.00513949979542747\n",
      "**************************************************\n",
      "## [RESULT 05]\n",
      "**************************************************\n",
      "[[ 0.00100728 -0.00089508]\n",
      " [ 0.00333333  0.00333333]\n",
      " [ 0.005       0.005     ]]\n",
      "**************************************************\n",
      "## [RESULT 06]\n",
      "**************************************************\n"
     ]
    },
    {
     "data": {
      "image/png": "[encoded data removed]",
      "text/plain": [
       "<Figure size 576x432 with 1 Axes>"
      ]
     },
     "metadata": {
      "needs_background": "light"
     },
     "output_type": "display_data"
    },
    {
     "name": "stdout",
     "output_type": "stream",
     "text": [
      "**************************************************\n",
      "## [RESULT 07]\n",
      "**************************************************\n"
     ]
    },
    {
     "data": {
      "image/png": "[encoded data removed]",
      "text/plain": [
       "<Figure size 576x432 with 1 Axes>"
      ]
     },
     "metadata": {
      "needs_background": "light"
     },
     "output_type": "display_data"
    },
    {
     "name": "stdout",
     "output_type": "stream",
     "text": [
      "**************************************************\n",
      "## [RESULT 08]\n",
      "**************************************************\n"
     ]
    },
    {
     "ename": "TypeError",
     "evalue": "Input z must be 2D, not 1D",
     "output_type": "error",
     "traceback": [
      "\u001b[1;31m---------------------------------------------------------------------------\u001b[0m",
      "\u001b[1;31mTypeError\u001b[0m                                 Traceback (most recent call last)",
      "\u001b[1;32mc:\\Users\\TaeKyung Kim\\git_test\\ML-assignment\\08\\assignment_08.ipynb Cell 51'\u001b[0m in \u001b[0;36m<cell line: 3>\u001b[1;34m()\u001b[0m\n\u001b[0;32m      <a href='vscode-notebook-cell:/c%3A/Users/TaeKyung%20Kim/git_test/ML-assignment/08/assignment_08.ipynb#ch0000050?line=7'>8</a>\u001b[0m \u001b[39mprint\u001b[39m(title)\n\u001b[0;32m      <a href='vscode-notebook-cell:/c%3A/Users/TaeKyung%20Kim/git_test/ML-assignment/08/assignment_08.ipynb#ch0000050?line=8'>9</a>\u001b[0m \u001b[39mprint\u001b[39m(\u001b[39m'\u001b[39m\u001b[39m**************************************************\u001b[39m\u001b[39m'\u001b[39m)\n\u001b[1;32m---> <a href='vscode-notebook-cell:/c%3A/Users/TaeKyung%20Kim/git_test/ML-assignment/08/assignment_08.ipynb#ch0000050?line=9'>10</a>\u001b[0m \u001b[39meval\u001b[39;49m(name_function)\n",
      "File \u001b[1;32m<string>:1\u001b[0m, in \u001b[0;36m<module>\u001b[1;34m\u001b[0m\n",
      "\u001b[1;32mc:\\Users\\TaeKyung Kim\\git_test\\ML-assignment\\08\\assignment_08.ipynb Cell 43'\u001b[0m in \u001b[0;36mfunction_result_08\u001b[1;34m()\u001b[0m\n\u001b[0;32m     <a href='vscode-notebook-cell:/c%3A/Users/TaeKyung%20Kim/git_test/ML-assignment/08/assignment_08.ipynb#ch0000042?line=11'>12</a>\u001b[0m plt\u001b[39m.\u001b[39mfigure(figsize\u001b[39m=\u001b[39m(\u001b[39m8\u001b[39m,\u001b[39m8\u001b[39m))   \n\u001b[0;32m     <a href='vscode-notebook-cell:/c%3A/Users/TaeKyung%20Kim/git_test/ML-assignment/08/assignment_08.ipynb#ch0000042?line=13'>14</a>\u001b[0m grid \u001b[39m=\u001b[39m np\u001b[39m.\u001b[39mc_[XX\u001b[39m.\u001b[39mravel(), YY\u001b[39m.\u001b[39mravel()]\n\u001b[1;32m---> <a href='vscode-notebook-cell:/c%3A/Users/TaeKyung%20Kim/git_test/ML-assignment/08/assignment_08.ipynb#ch0000042?line=16'>17</a>\u001b[0m contour \u001b[39m=\u001b[39m plt\u001b[39m.\u001b[39;49mcontourf(XX,YY, compute_linear_regression(theta, point), \u001b[39m100\u001b[39;49m, cmap\u001b[39m=\u001b[39;49m\u001b[39m\"\u001b[39;49m\u001b[39mRdBu\u001b[39;49m\u001b[39m\"\u001b[39;49m,vmin\u001b[39m=\u001b[39;49m\u001b[39m0\u001b[39;49m, vmax\u001b[39m=\u001b[39;49m\u001b[39m1\u001b[39;49m)\n\u001b[0;32m     <a href='vscode-notebook-cell:/c%3A/Users/TaeKyung%20Kim/git_test/ML-assignment/08/assignment_08.ipynb#ch0000042?line=17'>18</a>\u001b[0m ax_c \u001b[39m=\u001b[39m f\u001b[39m.\u001b[39mcolorbar(contour)\n\u001b[0;32m     <a href='vscode-notebook-cell:/c%3A/Users/TaeKyung%20Kim/git_test/ML-assignment/08/assignment_08.ipynb#ch0000042?line=18'>19</a>\u001b[0m ax_c\u001b[39m.\u001b[39mset_label(\u001b[39m\"\u001b[39m\u001b[39m$P(y = 1)$\u001b[39m\u001b[39m\"\u001b[39m)\n",
      "File \u001b[1;32m~\\AppData\\Local\\Packages\\PythonSoftwareFoundation.Python.3.9_qbz5n2kfra8p0\\LocalCache\\local-packages\\Python39\\site-packages\\matplotlib\\pyplot.py:2482\u001b[0m, in \u001b[0;36mcontourf\u001b[1;34m(data, *args, **kwargs)\u001b[0m\n\u001b[0;32m   <a href='file:///c%3A/Users/TaeKyung%20Kim/AppData/Local/Packages/PythonSoftwareFoundation.Python.3.9_qbz5n2kfra8p0/LocalCache/local-packages/Python39/site-packages/matplotlib/pyplot.py?line=2479'>2480</a>\u001b[0m \u001b[39m@_copy_docstring_and_deprecators\u001b[39m(Axes\u001b[39m.\u001b[39mcontourf)\n\u001b[0;32m   <a href='file:///c%3A/Users/TaeKyung%20Kim/AppData/Local/Packages/PythonSoftwareFoundation.Python.3.9_qbz5n2kfra8p0/LocalCache/local-packages/Python39/site-packages/matplotlib/pyplot.py?line=2480'>2481</a>\u001b[0m \u001b[39mdef\u001b[39;00m \u001b[39mcontourf\u001b[39m(\u001b[39m*\u001b[39margs, data\u001b[39m=\u001b[39m\u001b[39mNone\u001b[39;00m, \u001b[39m*\u001b[39m\u001b[39m*\u001b[39mkwargs):\n\u001b[1;32m-> <a href='file:///c%3A/Users/TaeKyung%20Kim/AppData/Local/Packages/PythonSoftwareFoundation.Python.3.9_qbz5n2kfra8p0/LocalCache/local-packages/Python39/site-packages/matplotlib/pyplot.py?line=2481'>2482</a>\u001b[0m     __ret \u001b[39m=\u001b[39m gca()\u001b[39m.\u001b[39mcontourf(\n\u001b[0;32m   <a href='file:///c%3A/Users/TaeKyung%20Kim/AppData/Local/Packages/PythonSoftwareFoundation.Python.3.9_qbz5n2kfra8p0/LocalCache/local-packages/Python39/site-packages/matplotlib/pyplot.py?line=2482'>2483</a>\u001b[0m         \u001b[39m*\u001b[39margs, \u001b[39m*\u001b[39m\u001b[39m*\u001b[39m({\u001b[39m\"\u001b[39m\u001b[39mdata\u001b[39m\u001b[39m\"\u001b[39m: data} \u001b[39mif\u001b[39;00m data \u001b[39mis\u001b[39;00m \u001b[39mnot\u001b[39;00m \u001b[39mNone\u001b[39;00m \u001b[39melse\u001b[39;00m {}),\n\u001b[0;32m   <a href='file:///c%3A/Users/TaeKyung%20Kim/AppData/Local/Packages/PythonSoftwareFoundation.Python.3.9_qbz5n2kfra8p0/LocalCache/local-packages/Python39/site-packages/matplotlib/pyplot.py?line=2483'>2484</a>\u001b[0m         \u001b[39m*\u001b[39m\u001b[39m*\u001b[39mkwargs)\n\u001b[0;32m   <a href='file:///c%3A/Users/TaeKyung%20Kim/AppData/Local/Packages/PythonSoftwareFoundation.Python.3.9_qbz5n2kfra8p0/LocalCache/local-packages/Python39/site-packages/matplotlib/pyplot.py?line=2484'>2485</a>\u001b[0m     \u001b[39mif\u001b[39;00m __ret\u001b[39m.\u001b[39m_A \u001b[39mis\u001b[39;00m \u001b[39mnot\u001b[39;00m \u001b[39mNone\u001b[39;00m: sci(__ret)  \u001b[39m# noqa\u001b[39;00m\n\u001b[0;32m   <a href='file:///c%3A/Users/TaeKyung%20Kim/AppData/Local/Packages/PythonSoftwareFoundation.Python.3.9_qbz5n2kfra8p0/LocalCache/local-packages/Python39/site-packages/matplotlib/pyplot.py?line=2485'>2486</a>\u001b[0m     \u001b[39mreturn\u001b[39;00m __ret\n",
      "File \u001b[1;32m~\\AppData\\Local\\Packages\\PythonSoftwareFoundation.Python.3.9_qbz5n2kfra8p0\\LocalCache\\local-packages\\Python39\\site-packages\\matplotlib\\__init__.py:1412\u001b[0m, in \u001b[0;36m_preprocess_data.<locals>.inner\u001b[1;34m(ax, data, *args, **kwargs)\u001b[0m\n\u001b[0;32m   <a href='file:///c%3A/Users/TaeKyung%20Kim/AppData/Local/Packages/PythonSoftwareFoundation.Python.3.9_qbz5n2kfra8p0/LocalCache/local-packages/Python39/site-packages/matplotlib/__init__.py?line=1408'>1409</a>\u001b[0m \u001b[39m@functools\u001b[39m\u001b[39m.\u001b[39mwraps(func)\n\u001b[0;32m   <a href='file:///c%3A/Users/TaeKyung%20Kim/AppData/Local/Packages/PythonSoftwareFoundation.Python.3.9_qbz5n2kfra8p0/LocalCache/local-packages/Python39/site-packages/matplotlib/__init__.py?line=1409'>1410</a>\u001b[0m \u001b[39mdef\u001b[39;00m \u001b[39minner\u001b[39m(ax, \u001b[39m*\u001b[39margs, data\u001b[39m=\u001b[39m\u001b[39mNone\u001b[39;00m, \u001b[39m*\u001b[39m\u001b[39m*\u001b[39mkwargs):\n\u001b[0;32m   <a href='file:///c%3A/Users/TaeKyung%20Kim/AppData/Local/Packages/PythonSoftwareFoundation.Python.3.9_qbz5n2kfra8p0/LocalCache/local-packages/Python39/site-packages/matplotlib/__init__.py?line=1410'>1411</a>\u001b[0m     \u001b[39mif\u001b[39;00m data \u001b[39mis\u001b[39;00m \u001b[39mNone\u001b[39;00m:\n\u001b[1;32m-> <a href='file:///c%3A/Users/TaeKyung%20Kim/AppData/Local/Packages/PythonSoftwareFoundation.Python.3.9_qbz5n2kfra8p0/LocalCache/local-packages/Python39/site-packages/matplotlib/__init__.py?line=1411'>1412</a>\u001b[0m         \u001b[39mreturn\u001b[39;00m func(ax, \u001b[39m*\u001b[39m\u001b[39mmap\u001b[39m(sanitize_sequence, args), \u001b[39m*\u001b[39m\u001b[39m*\u001b[39mkwargs)\n\u001b[0;32m   <a href='file:///c%3A/Users/TaeKyung%20Kim/AppData/Local/Packages/PythonSoftwareFoundation.Python.3.9_qbz5n2kfra8p0/LocalCache/local-packages/Python39/site-packages/matplotlib/__init__.py?line=1413'>1414</a>\u001b[0m     bound \u001b[39m=\u001b[39m new_sig\u001b[39m.\u001b[39mbind(ax, \u001b[39m*\u001b[39margs, \u001b[39m*\u001b[39m\u001b[39m*\u001b[39mkwargs)\n\u001b[0;32m   <a href='file:///c%3A/Users/TaeKyung%20Kim/AppData/Local/Packages/PythonSoftwareFoundation.Python.3.9_qbz5n2kfra8p0/LocalCache/local-packages/Python39/site-packages/matplotlib/__init__.py?line=1414'>1415</a>\u001b[0m     auto_label \u001b[39m=\u001b[39m (bound\u001b[39m.\u001b[39marguments\u001b[39m.\u001b[39mget(label_namer)\n\u001b[0;32m   <a href='file:///c%3A/Users/TaeKyung%20Kim/AppData/Local/Packages/PythonSoftwareFoundation.Python.3.9_qbz5n2kfra8p0/LocalCache/local-packages/Python39/site-packages/matplotlib/__init__.py?line=1415'>1416</a>\u001b[0m                   \u001b[39mor\u001b[39;00m bound\u001b[39m.\u001b[39mkwargs\u001b[39m.\u001b[39mget(label_namer))\n",
      "File \u001b[1;32m~\\AppData\\Local\\Packages\\PythonSoftwareFoundation.Python.3.9_qbz5n2kfra8p0\\LocalCache\\local-packages\\Python39\\site-packages\\matplotlib\\axes\\_axes.py:6317\u001b[0m, in \u001b[0;36mAxes.contourf\u001b[1;34m(self, *args, **kwargs)\u001b[0m\n\u001b[0;32m   <a href='file:///c%3A/Users/TaeKyung%20Kim/AppData/Local/Packages/PythonSoftwareFoundation.Python.3.9_qbz5n2kfra8p0/LocalCache/local-packages/Python39/site-packages/matplotlib/axes/_axes.py?line=6307'>6308</a>\u001b[0m \u001b[39m\"\"\"\u001b[39;00m\n\u001b[0;32m   <a href='file:///c%3A/Users/TaeKyung%20Kim/AppData/Local/Packages/PythonSoftwareFoundation.Python.3.9_qbz5n2kfra8p0/LocalCache/local-packages/Python39/site-packages/matplotlib/axes/_axes.py?line=6308'>6309</a>\u001b[0m \u001b[39mPlot filled contours.\u001b[39;00m\n\u001b[0;32m   <a href='file:///c%3A/Users/TaeKyung%20Kim/AppData/Local/Packages/PythonSoftwareFoundation.Python.3.9_qbz5n2kfra8p0/LocalCache/local-packages/Python39/site-packages/matplotlib/axes/_axes.py?line=6309'>6310</a>\u001b[0m \n\u001b[1;32m   (...)\u001b[0m\n\u001b[0;32m   <a href='file:///c%3A/Users/TaeKyung%20Kim/AppData/Local/Packages/PythonSoftwareFoundation.Python.3.9_qbz5n2kfra8p0/LocalCache/local-packages/Python39/site-packages/matplotlib/axes/_axes.py?line=6313'>6314</a>\u001b[0m \u001b[39m%(contour_doc)s\u001b[39;00m\n\u001b[0;32m   <a href='file:///c%3A/Users/TaeKyung%20Kim/AppData/Local/Packages/PythonSoftwareFoundation.Python.3.9_qbz5n2kfra8p0/LocalCache/local-packages/Python39/site-packages/matplotlib/axes/_axes.py?line=6314'>6315</a>\u001b[0m \u001b[39m\"\"\"\u001b[39;00m\n\u001b[0;32m   <a href='file:///c%3A/Users/TaeKyung%20Kim/AppData/Local/Packages/PythonSoftwareFoundation.Python.3.9_qbz5n2kfra8p0/LocalCache/local-packages/Python39/site-packages/matplotlib/axes/_axes.py?line=6315'>6316</a>\u001b[0m kwargs[\u001b[39m'\u001b[39m\u001b[39mfilled\u001b[39m\u001b[39m'\u001b[39m] \u001b[39m=\u001b[39m \u001b[39mTrue\u001b[39;00m\n\u001b[1;32m-> <a href='file:///c%3A/Users/TaeKyung%20Kim/AppData/Local/Packages/PythonSoftwareFoundation.Python.3.9_qbz5n2kfra8p0/LocalCache/local-packages/Python39/site-packages/matplotlib/axes/_axes.py?line=6316'>6317</a>\u001b[0m contours \u001b[39m=\u001b[39m mcontour\u001b[39m.\u001b[39mQuadContourSet(\u001b[39mself\u001b[39m, \u001b[39m*\u001b[39margs, \u001b[39m*\u001b[39m\u001b[39m*\u001b[39mkwargs)\n\u001b[0;32m   <a href='file:///c%3A/Users/TaeKyung%20Kim/AppData/Local/Packages/PythonSoftwareFoundation.Python.3.9_qbz5n2kfra8p0/LocalCache/local-packages/Python39/site-packages/matplotlib/axes/_axes.py?line=6317'>6318</a>\u001b[0m \u001b[39mself\u001b[39m\u001b[39m.\u001b[39m_request_autoscale_view()\n\u001b[0;32m   <a href='file:///c%3A/Users/TaeKyung%20Kim/AppData/Local/Packages/PythonSoftwareFoundation.Python.3.9_qbz5n2kfra8p0/LocalCache/local-packages/Python39/site-packages/matplotlib/axes/_axes.py?line=6318'>6319</a>\u001b[0m \u001b[39mreturn\u001b[39;00m contours\n",
      "File \u001b[1;32m~\\AppData\\Local\\Packages\\PythonSoftwareFoundation.Python.3.9_qbz5n2kfra8p0\\LocalCache\\local-packages\\Python39\\site-packages\\matplotlib\\contour.py:812\u001b[0m, in \u001b[0;36mContourSet.__init__\u001b[1;34m(self, ax, levels, filled, linewidths, linestyles, hatches, alpha, origin, extent, cmap, colors, norm, vmin, vmax, extend, antialiased, nchunk, locator, transform, *args, **kwargs)\u001b[0m\n\u001b[0;32m    <a href='file:///c%3A/Users/TaeKyung%20Kim/AppData/Local/Packages/PythonSoftwareFoundation.Python.3.9_qbz5n2kfra8p0/LocalCache/local-packages/Python39/site-packages/matplotlib/contour.py?line=807'>808</a>\u001b[0m     \u001b[39mself\u001b[39m\u001b[39m.\u001b[39morigin \u001b[39m=\u001b[39m mpl\u001b[39m.\u001b[39mrcParams[\u001b[39m'\u001b[39m\u001b[39mimage.origin\u001b[39m\u001b[39m'\u001b[39m]\n\u001b[0;32m    <a href='file:///c%3A/Users/TaeKyung%20Kim/AppData/Local/Packages/PythonSoftwareFoundation.Python.3.9_qbz5n2kfra8p0/LocalCache/local-packages/Python39/site-packages/matplotlib/contour.py?line=809'>810</a>\u001b[0m \u001b[39mself\u001b[39m\u001b[39m.\u001b[39m_transform \u001b[39m=\u001b[39m transform\n\u001b[1;32m--> <a href='file:///c%3A/Users/TaeKyung%20Kim/AppData/Local/Packages/PythonSoftwareFoundation.Python.3.9_qbz5n2kfra8p0/LocalCache/local-packages/Python39/site-packages/matplotlib/contour.py?line=811'>812</a>\u001b[0m kwargs \u001b[39m=\u001b[39m \u001b[39mself\u001b[39m\u001b[39m.\u001b[39m_process_args(\u001b[39m*\u001b[39margs, \u001b[39m*\u001b[39m\u001b[39m*\u001b[39mkwargs)\n\u001b[0;32m    <a href='file:///c%3A/Users/TaeKyung%20Kim/AppData/Local/Packages/PythonSoftwareFoundation.Python.3.9_qbz5n2kfra8p0/LocalCache/local-packages/Python39/site-packages/matplotlib/contour.py?line=812'>813</a>\u001b[0m \u001b[39mself\u001b[39m\u001b[39m.\u001b[39m_process_levels()\n\u001b[0;32m    <a href='file:///c%3A/Users/TaeKyung%20Kim/AppData/Local/Packages/PythonSoftwareFoundation.Python.3.9_qbz5n2kfra8p0/LocalCache/local-packages/Python39/site-packages/matplotlib/contour.py?line=814'>815</a>\u001b[0m \u001b[39mself\u001b[39m\u001b[39m.\u001b[39m_extend_min \u001b[39m=\u001b[39m \u001b[39mself\u001b[39m\u001b[39m.\u001b[39mextend \u001b[39min\u001b[39;00m [\u001b[39m'\u001b[39m\u001b[39mmin\u001b[39m\u001b[39m'\u001b[39m, \u001b[39m'\u001b[39m\u001b[39mboth\u001b[39m\u001b[39m'\u001b[39m]\n",
      "File \u001b[1;32m~\\AppData\\Local\\Packages\\PythonSoftwareFoundation.Python.3.9_qbz5n2kfra8p0\\LocalCache\\local-packages\\Python39\\site-packages\\matplotlib\\contour.py:1441\u001b[0m, in \u001b[0;36mQuadContourSet._process_args\u001b[1;34m(self, corner_mask, *args, **kwargs)\u001b[0m\n\u001b[0;32m   <a href='file:///c%3A/Users/TaeKyung%20Kim/AppData/Local/Packages/PythonSoftwareFoundation.Python.3.9_qbz5n2kfra8p0/LocalCache/local-packages/Python39/site-packages/matplotlib/contour.py?line=1437'>1438</a>\u001b[0m     corner_mask \u001b[39m=\u001b[39m mpl\u001b[39m.\u001b[39mrcParams[\u001b[39m'\u001b[39m\u001b[39mcontour.corner_mask\u001b[39m\u001b[39m'\u001b[39m]\n\u001b[0;32m   <a href='file:///c%3A/Users/TaeKyung%20Kim/AppData/Local/Packages/PythonSoftwareFoundation.Python.3.9_qbz5n2kfra8p0/LocalCache/local-packages/Python39/site-packages/matplotlib/contour.py?line=1438'>1439</a>\u001b[0m \u001b[39mself\u001b[39m\u001b[39m.\u001b[39m_corner_mask \u001b[39m=\u001b[39m corner_mask\n\u001b[1;32m-> <a href='file:///c%3A/Users/TaeKyung%20Kim/AppData/Local/Packages/PythonSoftwareFoundation.Python.3.9_qbz5n2kfra8p0/LocalCache/local-packages/Python39/site-packages/matplotlib/contour.py?line=1440'>1441</a>\u001b[0m x, y, z \u001b[39m=\u001b[39m \u001b[39mself\u001b[39;49m\u001b[39m.\u001b[39;49m_contour_args(args, kwargs)\n\u001b[0;32m   <a href='file:///c%3A/Users/TaeKyung%20Kim/AppData/Local/Packages/PythonSoftwareFoundation.Python.3.9_qbz5n2kfra8p0/LocalCache/local-packages/Python39/site-packages/matplotlib/contour.py?line=1442'>1443</a>\u001b[0m _mask \u001b[39m=\u001b[39m ma\u001b[39m.\u001b[39mgetmask(z)\n\u001b[0;32m   <a href='file:///c%3A/Users/TaeKyung%20Kim/AppData/Local/Packages/PythonSoftwareFoundation.Python.3.9_qbz5n2kfra8p0/LocalCache/local-packages/Python39/site-packages/matplotlib/contour.py?line=1443'>1444</a>\u001b[0m \u001b[39mif\u001b[39;00m _mask \u001b[39mis\u001b[39;00m ma\u001b[39m.\u001b[39mnomask \u001b[39mor\u001b[39;00m \u001b[39mnot\u001b[39;00m _mask\u001b[39m.\u001b[39many():\n",
      "File \u001b[1;32m~\\AppData\\Local\\Packages\\PythonSoftwareFoundation.Python.3.9_qbz5n2kfra8p0\\LocalCache\\local-packages\\Python39\\site-packages\\matplotlib\\contour.py:1480\u001b[0m, in \u001b[0;36mQuadContourSet._contour_args\u001b[1;34m(self, args, kwargs)\u001b[0m\n\u001b[0;32m   <a href='file:///c%3A/Users/TaeKyung%20Kim/AppData/Local/Packages/PythonSoftwareFoundation.Python.3.9_qbz5n2kfra8p0/LocalCache/local-packages/Python39/site-packages/matplotlib/contour.py?line=1477'>1478</a>\u001b[0m     args \u001b[39m=\u001b[39m args[\u001b[39m1\u001b[39m:]\n\u001b[0;32m   <a href='file:///c%3A/Users/TaeKyung%20Kim/AppData/Local/Packages/PythonSoftwareFoundation.Python.3.9_qbz5n2kfra8p0/LocalCache/local-packages/Python39/site-packages/matplotlib/contour.py?line=1478'>1479</a>\u001b[0m \u001b[39melif\u001b[39;00m Nargs \u001b[39m<\u001b[39m\u001b[39m=\u001b[39m \u001b[39m4\u001b[39m:\n\u001b[1;32m-> <a href='file:///c%3A/Users/TaeKyung%20Kim/AppData/Local/Packages/PythonSoftwareFoundation.Python.3.9_qbz5n2kfra8p0/LocalCache/local-packages/Python39/site-packages/matplotlib/contour.py?line=1479'>1480</a>\u001b[0m     x, y, z \u001b[39m=\u001b[39m \u001b[39mself\u001b[39;49m\u001b[39m.\u001b[39;49m_check_xyz(args[:\u001b[39m3\u001b[39;49m], kwargs)\n\u001b[0;32m   <a href='file:///c%3A/Users/TaeKyung%20Kim/AppData/Local/Packages/PythonSoftwareFoundation.Python.3.9_qbz5n2kfra8p0/LocalCache/local-packages/Python39/site-packages/matplotlib/contour.py?line=1480'>1481</a>\u001b[0m     args \u001b[39m=\u001b[39m args[\u001b[39m3\u001b[39m:]\n\u001b[0;32m   <a href='file:///c%3A/Users/TaeKyung%20Kim/AppData/Local/Packages/PythonSoftwareFoundation.Python.3.9_qbz5n2kfra8p0/LocalCache/local-packages/Python39/site-packages/matplotlib/contour.py?line=1481'>1482</a>\u001b[0m \u001b[39melse\u001b[39;00m:\n",
      "File \u001b[1;32m~\\AppData\\Local\\Packages\\PythonSoftwareFoundation.Python.3.9_qbz5n2kfra8p0\\LocalCache\\local-packages\\Python39\\site-packages\\matplotlib\\contour.py:1508\u001b[0m, in \u001b[0;36mQuadContourSet._check_xyz\u001b[1;34m(self, args, kwargs)\u001b[0m\n\u001b[0;32m   <a href='file:///c%3A/Users/TaeKyung%20Kim/AppData/Local/Packages/PythonSoftwareFoundation.Python.3.9_qbz5n2kfra8p0/LocalCache/local-packages/Python39/site-packages/matplotlib/contour.py?line=1504'>1505</a>\u001b[0m z \u001b[39m=\u001b[39m ma\u001b[39m.\u001b[39masarray(args[\u001b[39m2\u001b[39m], dtype\u001b[39m=\u001b[39mnp\u001b[39m.\u001b[39mfloat64)\n\u001b[0;32m   <a href='file:///c%3A/Users/TaeKyung%20Kim/AppData/Local/Packages/PythonSoftwareFoundation.Python.3.9_qbz5n2kfra8p0/LocalCache/local-packages/Python39/site-packages/matplotlib/contour.py?line=1506'>1507</a>\u001b[0m \u001b[39mif\u001b[39;00m z\u001b[39m.\u001b[39mndim \u001b[39m!=\u001b[39m \u001b[39m2\u001b[39m:\n\u001b[1;32m-> <a href='file:///c%3A/Users/TaeKyung%20Kim/AppData/Local/Packages/PythonSoftwareFoundation.Python.3.9_qbz5n2kfra8p0/LocalCache/local-packages/Python39/site-packages/matplotlib/contour.py?line=1507'>1508</a>\u001b[0m     \u001b[39mraise\u001b[39;00m \u001b[39mTypeError\u001b[39;00m(\u001b[39mf\u001b[39m\u001b[39m\"\u001b[39m\u001b[39mInput z must be 2D, not \u001b[39m\u001b[39m{\u001b[39;00mz\u001b[39m.\u001b[39mndim\u001b[39m}\u001b[39;00m\u001b[39mD\u001b[39m\u001b[39m\"\u001b[39m)\n\u001b[0;32m   <a href='file:///c%3A/Users/TaeKyung%20Kim/AppData/Local/Packages/PythonSoftwareFoundation.Python.3.9_qbz5n2kfra8p0/LocalCache/local-packages/Python39/site-packages/matplotlib/contour.py?line=1508'>1509</a>\u001b[0m \u001b[39mif\u001b[39;00m z\u001b[39m.\u001b[39mshape[\u001b[39m0\u001b[39m] \u001b[39m<\u001b[39m \u001b[39m2\u001b[39m \u001b[39mor\u001b[39;00m z\u001b[39m.\u001b[39mshape[\u001b[39m1\u001b[39m] \u001b[39m<\u001b[39m \u001b[39m2\u001b[39m:\n\u001b[0;32m   <a href='file:///c%3A/Users/TaeKyung%20Kim/AppData/Local/Packages/PythonSoftwareFoundation.Python.3.9_qbz5n2kfra8p0/LocalCache/local-packages/Python39/site-packages/matplotlib/contour.py?line=1509'>1510</a>\u001b[0m     \u001b[39mraise\u001b[39;00m \u001b[39mTypeError\u001b[39;00m(\u001b[39mf\u001b[39m\u001b[39m\"\u001b[39m\u001b[39mInput z must be at least a (2, 2) shaped array, \u001b[39m\u001b[39m\"\u001b[39m\n\u001b[0;32m   <a href='file:///c%3A/Users/TaeKyung%20Kim/AppData/Local/Packages/PythonSoftwareFoundation.Python.3.9_qbz5n2kfra8p0/LocalCache/local-packages/Python39/site-packages/matplotlib/contour.py?line=1510'>1511</a>\u001b[0m                     \u001b[39mf\u001b[39m\u001b[39m\"\u001b[39m\u001b[39mbut has shape \u001b[39m\u001b[39m{\u001b[39;00mz\u001b[39m.\u001b[39mshape\u001b[39m}\u001b[39;00m\u001b[39m\"\u001b[39m)\n",
      "\u001b[1;31mTypeError\u001b[0m: Input z must be 2D, not 1D"
     ]
    },
    {
     "data": {
      "image/png": "[encoded data removed]",
      "text/plain": [
       "<Figure size 576x576 with 1 Axes>"
      ]
     },
     "metadata": {
      "needs_background": "light"
     },
     "output_type": "display_data"
    }
   ],
   "source": [
    "number_result = 9\n",
    "\n",
    "for i in range(number_result):\n",
    "    title = '## [RESULT {:02d}]'.format(i+1)\n",
    "    name_function = 'function_result_{:02d}()'.format(i+1)\n",
    "\n",
    "    print('**************************************************')\n",
    "    print(title)\n",
    "    print('**************************************************')\n",
    "    eval(name_function)"
   ]
  },
  {
   "cell_type": "code",
   "execution_count": null,
   "metadata": {},
   "outputs": [],
   "source": []
  }
 ],
 "metadata": {
  "interpreter": {
   "hash": "ddae27643ffbfc690f67a882d89092a441bf18b3c86b8b3bc4c9309873c73780"
  },
  "kernelspec": {
   "display_name": "Python 3.9.12 64-bit (windows store)",
   "language": "python",
   "name": "python3"
  },
  "language_info": {
   "codemirror_mode": {
    "name": "ipython",
    "version": 3
   },
   "file_extension": ".py",
   "mimetype": "text/x-python",
   "name": "python",
   "nbconvert_exporter": "python",
   "pygments_lexer": "ipython3",
   "version": "3.9.12"
  },
  "metadata": {
   "interpreter": {
    "hash": "31f2aee4e71d21fbe5cf8b01ff0e069b9275f58929596ceb00d14d90e3e16cd6"
   }
  }
 },
 "nbformat": 4,
 "nbformat_minor": 2
}
